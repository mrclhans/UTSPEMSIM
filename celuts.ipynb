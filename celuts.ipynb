{
 "cells": [
  {
   "cell_type": "code",
   "execution_count": 3,
   "metadata": {},
   "outputs": [
    {
     "name": "stdout",
     "output_type": "stream",
     "text": [
      "Collecting openpyxl\n",
      "  Downloading openpyxl-3.1.2-py2.py3-none-any.whl (249 kB)\n",
      "     ---------------------------------------- 0.0/250.0 kB ? eta -:--:--\n",
      "     - -------------------------------------- 10.2/250.0 kB ? eta -:--:--\n",
      "     - -------------------------------------- 10.2/250.0 kB ? eta -:--:--\n",
      "     ---- -------------------------------- 30.7/250.0 kB 186.2 kB/s eta 0:00:02\n",
      "     --------- --------------------------- 61.4/250.0 kB 326.1 kB/s eta 0:00:01\n",
      "     ------------------------- ---------- 174.1/250.0 kB 807.1 kB/s eta 0:00:01\n",
      "     ------------------------------------ 250.0/250.0 kB 959.0 kB/s eta 0:00:00\n",
      "Collecting et-xmlfile\n",
      "  Downloading et_xmlfile-1.1.0-py3-none-any.whl (4.7 kB)\n",
      "Installing collected packages: et-xmlfile, openpyxl\n",
      "Successfully installed et-xmlfile-1.1.0 openpyxl-3.1.2\n",
      "Note: you may need to restart the kernel to use updated packages.\n"
     ]
    }
   ],
   "source": [
    "pip install openpyxl\n"
   ]
  },
  {
   "cell_type": "code",
   "execution_count": 4,
   "metadata": {},
   "outputs": [
    {
     "name": "stdout",
     "output_type": "stream",
     "text": [
      "Jumlah kali keluar angka 1: 148\n",
      "Jumlah kali keluar angka 2: 163\n",
      "Jumlah kali keluar angka 3: 167\n",
      "Jumlah kali keluar angka 4: 175\n",
      "Jumlah kali keluar angka 5: 180\n",
      "Jumlah kali keluar angka 6: 167\n",
      "Simulasi telah disimpan dalam file dice_roll_simulation.xlsx\n"
     ]
    }
   ],
   "source": [
    "from modsim import State, System\n",
    "import numpy as np\n",
    "import pandas as pd\n",
    "\n",
    "def throw_dice(system):\n",
    "    \"\"\"Mensimulasikan pelemparan dadu.\n",
    "\n",
    "    system: System object\n",
    "    \"\"\"\n",
    "    # Menghasilkan nilai acak antara 1 dan 6 (sisi dadu)\n",
    "    roll = np.random.randint(1, 7)\n",
    "    \n",
    "    # Menambahkan hasil pelemparan ke dalam state\n",
    "    system.state.results[roll] += 1\n",
    "\n",
    "def run_simulation(system, num_rolls):\n",
    "    \"\"\"Menjalankan simulasi pelemparan dadu sebanyak num_rolls kali.\n",
    "\n",
    "    system: System object\n",
    "    num_rolls: jumlah pelemparan dadu\n",
    "    \"\"\"\n",
    "    for _ in range(num_rolls):\n",
    "        throw_dice(system)\n",
    "\n",
    "def save_results_to_excel(results, filename):\n",
    "    \"\"\"Menyimpan hasil simulasi ke dalam file Excel.\n",
    "\n",
    "    results: DataFrame berisi hasil simulasi\n",
    "    filename: nama file Excel untuk disimpan\n",
    "    \"\"\"\n",
    "    results.to_excel(filename, index=False)\n",
    "    print(f\"Simulasi telah disimpan dalam file {filename}\")\n",
    "\n",
    "# Inisialisasi state awal\n",
    "init_state = State(results={i: 0 for i in range(1, 7)})\n",
    "\n",
    "# Inisialisasi system\n",
    "dice_system = System(state=init_state)\n",
    "\n",
    "# Menjalankan simulasi dengan 1000 pelemparan dadu\n",
    "num_rolls = 1000\n",
    "run_simulation(dice_system, num_rolls)\n",
    "\n",
    "# Menampilkan hasil\n",
    "for outcome, count in dice_system.state.results.items():\n",
    "    print(f\"Jumlah kali keluar angka {outcome}: {count}\")\n",
    "\n",
    "# Membuat DataFrame dari hasil simulasi\n",
    "results_df = pd.DataFrame({'Outcome': list(dice_system.state.results.keys()),\n",
    "                           'Count': list(dice_system.state.results.values())})\n",
    "\n",
    "# Menyimpan DataFrame ke dalam file Excel\n",
    "save_results_to_excel(results_df, 'dice_roll_simulation.xlsx')\n"
   ]
  }
 ],
 "metadata": {
  "kernelspec": {
   "display_name": "modsim",
   "language": "python",
   "name": "python3"
  },
  "language_info": {
   "codemirror_mode": {
    "name": "ipython",
    "version": 3
   },
   "file_extension": ".py",
   "mimetype": "text/x-python",
   "name": "python",
   "nbconvert_exporter": "python",
   "pygments_lexer": "ipython3",
   "version": "3.9.16"
  }
 },
 "nbformat": 4,
 "nbformat_minor": 2
}
